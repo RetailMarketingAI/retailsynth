{
 "cells": [
  {
   "cell_type": "code",
   "execution_count": 1,
   "metadata": {
    "pycharm": {
     "name": "#%%\n"
    },
    "tags": []
   },
   "outputs": [],
   "source": [
    "import logging\n",
    "import warnings\n",
    "\n",
    "from hydra import compose, initialize\n",
    "from omegaconf import OmegaConf\n",
    "\n",
    "from retailsynth.datasets.complete_journey.preprocess_pipeline import (\n",
    "    run_preprocess,\n",
    "    PreprocessPipeline,\n",
    ")\n",
    "from retailsynth.base_config import load_config_store\n",
    "\n",
    "logging.basicConfig(\n",
    "    level=logging.INFO, format=\"%(asctime)s - %(levelname)s - %(message)s\"\n",
    ")\n",
    "\n",
    "warnings.filterwarnings(\"ignore\", category=FutureWarning)"
   ]
  },
  {
   "cell_type": "markdown",
   "metadata": {
    "pycharm": {
     "name": "#%% md\n"
    }
   },
   "source": [
    "\n",
    "## Introduction\n",
    "\n",
    "This notebook provides a deep dive exploratory analysis and documentation of the data preprocessing and cleaning steps\n",
    "required to leverage The Complete Journey dataset.[1] We note that several demand prediction papers[2][3] have used this\n",
    "same dataset and provide additional insights on the data quality beyond what is presented here.\n",
    "\n",
    "\n",
    "## Data loading\n",
    "\n",
    "We begin by instantiating the pipeline and downloading the raw data. We use three main tables: transactions, customer\n",
    "demographics and product information. For more information about this data source, please refer to the Dunnhumby\n",
    "website.\n"
   ]
  },
  {
   "cell_type": "code",
   "execution_count": 2,
   "metadata": {
    "pycharm": {
     "name": "#%%\n"
    },
    "tags": []
   },
   "outputs": [],
   "source": [
    "with initialize(version_base=None, config_path=\"cfg\"):\n",
    "    load_config_store()\n",
    "    cfg = compose(config_name=\"real_dataset\")\n",
    "    cfg = OmegaConf.to_object(cfg)\n",
    "\n",
    "preprocess_pipeline = PreprocessPipeline(\n",
    "    raw_data_config=cfg.raw_data,\n",
    ")"
   ]
  },
  {
   "cell_type": "code",
   "execution_count": 3,
   "metadata": {
    "collapsed": false,
    "jupyter": {
     "outputs_hidden": false
    },
    "pycharm": {
     "name": "#%%\n"
    },
    "tags": []
   },
   "outputs": [],
   "source": [
    "customers = preprocess_pipeline.dataset.customers\n",
    "transactions = preprocess_pipeline.dataset.transactions\n",
    "products = preprocess_pipeline.dataset.products"
   ]
  },
  {
   "cell_type": "markdown",
   "metadata": {
    "pycharm": {
     "name": "#%% md\n"
    }
   },
   "source": [
    "\n",
    "## Data cleaning\n",
    "\n",
    "In this section, we will describe the contents of each table and the cleaning steps we implemented to mitigate data\n",
    "quality issues."
   ]
  },
  {
   "cell_type": "markdown",
   "metadata": {
    "pycharm": {
     "name": "#%% md\n"
    }
   },
   "source": [
    "\n",
    "### Customer table cleaning\n",
    "\n",
    "The `customers` table holds demographic attributes for each customer. Here is a sample of the data:"
   ]
  },
  {
   "cell_type": "code",
   "execution_count": 4,
   "metadata": {
    "pycharm": {
     "name": "#%%\n"
    },
    "tags": []
   },
   "outputs": [
    {
     "data": {
      "text/html": [
       "<div>\n",
       "<style scoped>\n",
       "    .dataframe tbody tr th:only-of-type {\n",
       "        vertical-align: middle;\n",
       "    }\n",
       "\n",
       "    .dataframe tbody tr th {\n",
       "        vertical-align: top;\n",
       "    }\n",
       "\n",
       "    .dataframe thead th {\n",
       "        text-align: right;\n",
       "    }\n",
       "</style>\n",
       "<table border=\"1\" class=\"dataframe\">\n",
       "  <thead>\n",
       "    <tr style=\"text-align: right;\">\n",
       "      <th></th>\n",
       "      <th>age</th>\n",
       "      <th>income</th>\n",
       "      <th>home_ownership</th>\n",
       "      <th>marital_status</th>\n",
       "      <th>household_size</th>\n",
       "      <th>household_comp</th>\n",
       "      <th>kids_count</th>\n",
       "    </tr>\n",
       "    <tr>\n",
       "      <th>customer_key</th>\n",
       "      <th></th>\n",
       "      <th></th>\n",
       "      <th></th>\n",
       "      <th></th>\n",
       "      <th></th>\n",
       "      <th></th>\n",
       "      <th></th>\n",
       "    </tr>\n",
       "  </thead>\n",
       "  <tbody>\n",
       "    <tr>\n",
       "      <th>1</th>\n",
       "      <td>65+</td>\n",
       "      <td>35-49K</td>\n",
       "      <td>Homeowner</td>\n",
       "      <td>Married</td>\n",
       "      <td>2</td>\n",
       "      <td>2 Adults No Kids</td>\n",
       "      <td>0</td>\n",
       "    </tr>\n",
       "    <tr>\n",
       "      <th>1001</th>\n",
       "      <td>45-54</td>\n",
       "      <td>50-74K</td>\n",
       "      <td>Homeowner</td>\n",
       "      <td>Unmarried</td>\n",
       "      <td>1</td>\n",
       "      <td>1 Adult No Kids</td>\n",
       "      <td>0</td>\n",
       "    </tr>\n",
       "  </tbody>\n",
       "</table>\n",
       "</div>"
      ],
      "text/plain": [
       "                age  income home_ownership marital_status household_size  \\\n",
       "customer_key                                                               \n",
       "1               65+  35-49K      Homeowner        Married              2   \n",
       "1001          45-54  50-74K      Homeowner      Unmarried              1   \n",
       "\n",
       "                household_comp kids_count  \n",
       "customer_key                               \n",
       "1             2 Adults No Kids          0  \n",
       "1001           1 Adult No Kids          0  "
      ]
     },
     "execution_count": 4,
     "metadata": {},
     "output_type": "execute_result"
    }
   ],
   "source": [
    "customers.set_index(\"customer_key\").head(2)"
   ]
  },
  {
   "cell_type": "markdown",
   "metadata": {
    "pycharm": {
     "name": "#%% md\n"
    }
   },
   "source": [
    "However, in the transactions table there are orders attributed to customers customers not recorded in the demographic\n",
    "table. With `record_unrecognized_customer`, we add these customers to the customer table."
   ]
  },
  {
   "cell_type": "code",
   "execution_count": 5,
   "metadata": {
    "pycharm": {
     "name": "#%%\n"
    },
    "tags": []
   },
   "outputs": [
    {
     "name": "stderr",
     "output_type": "stream",
     "text": [
      "2024-03-05 20:55:09,610 - INFO - There are unrecognized customer ids in the transactions table. Number of unrecognized customer ids: 1668\n"
     ]
    },
    {
     "name": "stdout",
     "output_type": "stream",
     "text": [
      "Number of transactions from unrecognizable customers:  640457\n"
     ]
    }
   ],
   "source": [
    "# complete list customers in our record\n",
    "recorded_customers = customers.customer_key.unique()\n",
    "# transactions from customer not in our record\n",
    "print(\n",
    "    \"Number of transactions from unrecognizable customers: \",\n",
    "    transactions[~transactions.customer_key.isin(recorded_customers)].shape[0],\n",
    ")\n",
    "_ = preprocess_pipeline.record_unrecognized_customer()"
   ]
  },
  {
   "cell_type": "markdown",
   "metadata": {
    "pycharm": {
     "name": "#%% md\n"
    }
   },
   "source": [
    "\n",
    "### Product table cleaning\n",
    "\n",
    "The `products` table contains information about products, where the `product_nbr` column serves as the unique\n",
    "identifier. The table provides information, including product department, category description, subcategory description,\n",
    "manufacturer, brand, and package size.\n",
    "\n",
    "There are groups of products that share the same attributes but have different product IDs. These are likely very\n",
    "similar from the customers' perspective. We show an example below:"
   ]
  },
  {
   "cell_type": "code",
   "execution_count": 6,
   "metadata": {
    "pycharm": {
     "name": "#%%\n"
    },
    "tags": []
   },
   "outputs": [
    {
     "data": {
      "text/html": [
       "<div>\n",
       "<style scoped>\n",
       "    .dataframe tbody tr th:only-of-type {\n",
       "        vertical-align: middle;\n",
       "    }\n",
       "\n",
       "    .dataframe tbody tr th {\n",
       "        vertical-align: top;\n",
       "    }\n",
       "\n",
       "    .dataframe thead th {\n",
       "        text-align: right;\n",
       "    }\n",
       "</style>\n",
       "<table border=\"1\" class=\"dataframe\">\n",
       "  <thead>\n",
       "    <tr style=\"text-align: right;\">\n",
       "      <th></th>\n",
       "      <th>product_nbr</th>\n",
       "      <th>manufacturer_id</th>\n",
       "      <th>department</th>\n",
       "      <th>brand</th>\n",
       "      <th>category_desc</th>\n",
       "      <th>subcategory_desc</th>\n",
       "      <th>package_size</th>\n",
       "    </tr>\n",
       "  </thead>\n",
       "  <tbody>\n",
       "    <tr>\n",
       "      <th>86082</th>\n",
       "      <td>15449249</td>\n",
       "      <td>6380</td>\n",
       "      <td>GROCERY</td>\n",
       "      <td>National</td>\n",
       "      <td>VEGETABLES - SHELF STABLE</td>\n",
       "      <td>TOMATOES: STEWED/DICED/CRMD</td>\n",
       "      <td>13.7 OZ</td>\n",
       "    </tr>\n",
       "    <tr>\n",
       "      <th>86083</th>\n",
       "      <td>15449250</td>\n",
       "      <td>6380</td>\n",
       "      <td>GROCERY</td>\n",
       "      <td>National</td>\n",
       "      <td>VEGETABLES - SHELF STABLE</td>\n",
       "      <td>TOMATOES: STEWED/DICED/CRMD</td>\n",
       "      <td>13.7 OZ</td>\n",
       "    </tr>\n",
       "    <tr>\n",
       "      <th>86090</th>\n",
       "      <td>15449588</td>\n",
       "      <td>6380</td>\n",
       "      <td>GROCERY</td>\n",
       "      <td>National</td>\n",
       "      <td>VEGETABLES - SHELF STABLE</td>\n",
       "      <td>TOMATOES: STEWED/DICED/CRMD</td>\n",
       "      <td>13.7 OZ</td>\n",
       "    </tr>\n",
       "  </tbody>\n",
       "</table>\n",
       "</div>"
      ],
      "text/plain": [
       "       product_nbr  manufacturer_id department     brand  \\\n",
       "86082     15449249             6380    GROCERY  National   \n",
       "86083     15449250             6380    GROCERY  National   \n",
       "86090     15449588             6380    GROCERY  National   \n",
       "\n",
       "                   category_desc             subcategory_desc package_size  \n",
       "86082  VEGETABLES - SHELF STABLE  TOMATOES: STEWED/DICED/CRMD      13.7 OZ  \n",
       "86083  VEGETABLES - SHELF STABLE  TOMATOES: STEWED/DICED/CRMD      13.7 OZ  \n",
       "86090  VEGETABLES - SHELF STABLE  TOMATOES: STEWED/DICED/CRMD      13.7 OZ  "
      ]
     },
     "execution_count": 6,
     "metadata": {},
     "output_type": "execute_result"
    }
   ],
   "source": [
    "package_size = \"13.7 OZ\"\n",
    "manufacturer_id = 6380\n",
    "subcategory_desc = \"TOMATOES: STEWED/DICED/CRMD\"\n",
    "\n",
    "products[\n",
    "    (products.package_size == package_size)\n",
    "    & (products.manufacturer_id == manufacturer_id)\n",
    "    & (products.subcategory_desc == subcategory_desc)\n",
    "]"
   ]
  },
  {
   "cell_type": "markdown",
   "metadata": {
    "pycharm": {
     "name": "#%% md\n"
    }
   },
   "source": [
    "As the digital twin simulation focuses on the customer perspective, we overwrite the duplicate `product_nbrs` with the\n",
    "first unique found in the product table."
   ]
  },
  {
   "cell_type": "code",
   "execution_count": 7,
   "metadata": {
    "pycharm": {
     "name": "#%%\n"
    },
    "tags": []
   },
   "outputs": [
    {
     "name": "stderr",
     "output_type": "stream",
     "text": [
      "2024-03-05 20:55:10,303 - INFO - Use the same label for products with the same hierarchy information. Number of products are decreased to 32333.\n"
     ]
    }
   ],
   "source": [
    "_ = preprocess_pipeline.drop_duplicate_product_id()"
   ]
  },
  {
   "cell_type": "code",
   "execution_count": 8,
   "metadata": {
    "pycharm": {
     "name": "#%%\n"
    },
    "tags": []
   },
   "outputs": [
    {
     "data": {
      "text/html": [
       "<div>\n",
       "<style scoped>\n",
       "    .dataframe tbody tr th:only-of-type {\n",
       "        vertical-align: middle;\n",
       "    }\n",
       "\n",
       "    .dataframe tbody tr th {\n",
       "        vertical-align: top;\n",
       "    }\n",
       "\n",
       "    .dataframe thead th {\n",
       "        text-align: right;\n",
       "    }\n",
       "</style>\n",
       "<table border=\"1\" class=\"dataframe\">\n",
       "  <thead>\n",
       "    <tr style=\"text-align: right;\">\n",
       "      <th></th>\n",
       "      <th>manufacturer_id</th>\n",
       "      <th>department</th>\n",
       "      <th>brand</th>\n",
       "      <th>category_desc</th>\n",
       "      <th>subcategory_desc</th>\n",
       "      <th>package_size</th>\n",
       "      <th>product_nbr</th>\n",
       "      <th>all</th>\n",
       "    </tr>\n",
       "  </thead>\n",
       "  <tbody>\n",
       "    <tr>\n",
       "      <th>86082</th>\n",
       "      <td>6380</td>\n",
       "      <td>grocery</td>\n",
       "      <td>national</td>\n",
       "      <td>vegetables - shelf stable</td>\n",
       "      <td>tomatoes: stewed/diced/crmd</td>\n",
       "      <td>13.7 oz</td>\n",
       "      <td>30101</td>\n",
       "      <td>all</td>\n",
       "    </tr>\n",
       "  </tbody>\n",
       "</table>\n",
       "</div>"
      ],
      "text/plain": [
       "       manufacturer_id department     brand              category_desc  \\\n",
       "86082             6380    grocery  national  vegetables - shelf stable   \n",
       "\n",
       "                  subcategory_desc package_size  product_nbr  all  \n",
       "86082  tomatoes: stewed/diced/crmd      13.7 oz        30101  all  "
      ]
     },
     "execution_count": 8,
     "metadata": {},
     "output_type": "execute_result"
    }
   ],
   "source": [
    "products = preprocess_pipeline.dataset.products\n",
    "products[\n",
    "    (products.package_size == package_size.lower())\n",
    "    & (products.manufacturer_id == manufacturer_id)\n",
    "    & (products.subcategory_desc == subcategory_desc.lower())\n",
    "]"
   ]
  },
  {
   "cell_type": "markdown",
   "metadata": {
    "pycharm": {
     "name": "#%% md\n"
    }
   },
   "source": [
    "\n",
    "### Transaction table cleaning\n",
    "\n",
    "The `transactions` table contains records of each customer's purchase behavior, providing information such as\n",
    "transaction date, discount policies, quantity sold, and more. The original dataset includes three sources of discount:\n",
    "retail discount (from a loyalty card program), coupon discount (supplied by the manufacturer), and coupon match\n",
    "discount (supplied by the retailer's match of the manufacturer coupon)."
   ]
  },
  {
   "cell_type": "code",
   "execution_count": 9,
   "metadata": {
    "pycharm": {
     "name": "#%%\n"
    },
    "tags": []
   },
   "outputs": [
    {
     "data": {
      "text/html": [
       "<div>\n",
       "<style scoped>\n",
       "    .dataframe tbody tr th:only-of-type {\n",
       "        vertical-align: middle;\n",
       "    }\n",
       "\n",
       "    .dataframe tbody tr th {\n",
       "        vertical-align: top;\n",
       "    }\n",
       "\n",
       "    .dataframe thead th {\n",
       "        text-align: right;\n",
       "    }\n",
       "</style>\n",
       "<table border=\"1\" class=\"dataframe\">\n",
       "  <thead>\n",
       "    <tr style=\"text-align: right;\">\n",
       "      <th></th>\n",
       "      <th>customer_key</th>\n",
       "      <th>store_nbr</th>\n",
       "      <th>basket_id</th>\n",
       "      <th>product_nbr</th>\n",
       "      <th>item_qty</th>\n",
       "      <th>sales_amt</th>\n",
       "      <th>retail_disc</th>\n",
       "      <th>coupon_disc</th>\n",
       "      <th>coupon_match_disc</th>\n",
       "      <th>week</th>\n",
       "      <th>transaction_timestamp</th>\n",
       "      <th>day</th>\n",
       "    </tr>\n",
       "  </thead>\n",
       "  <tbody>\n",
       "    <tr>\n",
       "      <th>0</th>\n",
       "      <td>900</td>\n",
       "      <td>330</td>\n",
       "      <td>31198570044</td>\n",
       "      <td>1095275</td>\n",
       "      <td>1</td>\n",
       "      <td>0.50</td>\n",
       "      <td>-0.00</td>\n",
       "      <td>-0.0</td>\n",
       "      <td>-0.0</td>\n",
       "      <td>1</td>\n",
       "      <td>2017-01-01 11:53:26</td>\n",
       "      <td>1</td>\n",
       "    </tr>\n",
       "    <tr>\n",
       "      <th>1</th>\n",
       "      <td>900</td>\n",
       "      <td>330</td>\n",
       "      <td>31198570047</td>\n",
       "      <td>9878513</td>\n",
       "      <td>1</td>\n",
       "      <td>0.99</td>\n",
       "      <td>-0.10</td>\n",
       "      <td>-0.0</td>\n",
       "      <td>-0.0</td>\n",
       "      <td>1</td>\n",
       "      <td>2017-01-01 12:10:28</td>\n",
       "      <td>1</td>\n",
       "    </tr>\n",
       "    <tr>\n",
       "      <th>2</th>\n",
       "      <td>1228</td>\n",
       "      <td>406</td>\n",
       "      <td>31198655051</td>\n",
       "      <td>1041453</td>\n",
       "      <td>1</td>\n",
       "      <td>1.43</td>\n",
       "      <td>-0.15</td>\n",
       "      <td>-0.0</td>\n",
       "      <td>-0.0</td>\n",
       "      <td>1</td>\n",
       "      <td>2017-01-01 12:26:30</td>\n",
       "      <td>1</td>\n",
       "    </tr>\n",
       "    <tr>\n",
       "      <th>3</th>\n",
       "      <td>906</td>\n",
       "      <td>319</td>\n",
       "      <td>31198705046</td>\n",
       "      <td>1020156</td>\n",
       "      <td>1</td>\n",
       "      <td>1.50</td>\n",
       "      <td>-0.29</td>\n",
       "      <td>-0.0</td>\n",
       "      <td>-0.0</td>\n",
       "      <td>1</td>\n",
       "      <td>2017-01-01 12:30:27</td>\n",
       "      <td>1</td>\n",
       "    </tr>\n",
       "    <tr>\n",
       "      <th>4</th>\n",
       "      <td>906</td>\n",
       "      <td>319</td>\n",
       "      <td>31198705046</td>\n",
       "      <td>1053875</td>\n",
       "      <td>2</td>\n",
       "      <td>2.78</td>\n",
       "      <td>-0.80</td>\n",
       "      <td>-0.0</td>\n",
       "      <td>-0.0</td>\n",
       "      <td>1</td>\n",
       "      <td>2017-01-01 12:30:27</td>\n",
       "      <td>1</td>\n",
       "    </tr>\n",
       "  </tbody>\n",
       "</table>\n",
       "</div>"
      ],
      "text/plain": [
       "   customer_key  store_nbr    basket_id  product_nbr  item_qty  sales_amt  \\\n",
       "0           900        330  31198570044      1095275         1       0.50   \n",
       "1           900        330  31198570047      9878513         1       0.99   \n",
       "2          1228        406  31198655051      1041453         1       1.43   \n",
       "3           906        319  31198705046      1020156         1       1.50   \n",
       "4           906        319  31198705046      1053875         2       2.78   \n",
       "\n",
       "   retail_disc  coupon_disc  coupon_match_disc  week transaction_timestamp  \\\n",
       "0        -0.00         -0.0               -0.0     1   2017-01-01 11:53:26   \n",
       "1        -0.10         -0.0               -0.0     1   2017-01-01 12:10:28   \n",
       "2        -0.15         -0.0               -0.0     1   2017-01-01 12:26:30   \n",
       "3        -0.29         -0.0               -0.0     1   2017-01-01 12:30:27   \n",
       "4        -0.80         -0.0               -0.0     1   2017-01-01 12:30:27   \n",
       "\n",
       "   day  \n",
       "0    1  \n",
       "1    1  \n",
       "2    1  \n",
       "3    1  \n",
       "4    1  "
      ]
     },
     "execution_count": 9,
     "metadata": {},
     "output_type": "execute_result"
    }
   ],
   "source": [
    "transactions.head(5)"
   ]
  },
  {
   "cell_type": "markdown",
   "metadata": {
    "pycharm": {
     "name": "#%% md\n"
    }
   },
   "source": [
    "\n",
    "#### 1. Product price calculation\n",
    "\n",
    "The original dataset does not provide the discount portion. Thus we implement a helper method to compute the actual\n",
    "dealt price, which includes unit price (after applying all discounts), and empirical discount percentage."
   ]
  },
  {
   "cell_type": "code",
   "execution_count": 10,
   "metadata": {
    "pycharm": {
     "name": "#%%\n"
    },
    "tags": []
   },
   "outputs": [
    {
     "data": {
      "text/html": [
       "<div>\n",
       "<style scoped>\n",
       "    .dataframe tbody tr th:only-of-type {\n",
       "        vertical-align: middle;\n",
       "    }\n",
       "\n",
       "    .dataframe tbody tr th {\n",
       "        vertical-align: top;\n",
       "    }\n",
       "\n",
       "    .dataframe thead th {\n",
       "        text-align: right;\n",
       "    }\n",
       "</style>\n",
       "<table border=\"1\" class=\"dataframe\">\n",
       "  <thead>\n",
       "    <tr style=\"text-align: right;\">\n",
       "      <th></th>\n",
       "      <th>customer_key</th>\n",
       "      <th>product_nbr</th>\n",
       "      <th>week</th>\n",
       "      <th>item_qty</th>\n",
       "      <th>sales_amt</th>\n",
       "      <th>unit_price</th>\n",
       "      <th>discount_portion</th>\n",
       "    </tr>\n",
       "  </thead>\n",
       "  <tbody>\n",
       "    <tr>\n",
       "      <th>0</th>\n",
       "      <td>1085</td>\n",
       "      <td>15</td>\n",
       "      <td>1</td>\n",
       "      <td>1</td>\n",
       "      <td>1.79</td>\n",
       "      <td>1.79</td>\n",
       "      <td>0.067708</td>\n",
       "    </tr>\n",
       "    <tr>\n",
       "      <th>1</th>\n",
       "      <td>1085</td>\n",
       "      <td>32</td>\n",
       "      <td>1</td>\n",
       "      <td>1</td>\n",
       "      <td>1.00</td>\n",
       "      <td>1.00</td>\n",
       "      <td>0.371069</td>\n",
       "    </tr>\n",
       "    <tr>\n",
       "      <th>2</th>\n",
       "      <td>1085</td>\n",
       "      <td>110</td>\n",
       "      <td>1</td>\n",
       "      <td>1</td>\n",
       "      <td>1.50</td>\n",
       "      <td>1.50</td>\n",
       "      <td>0.462366</td>\n",
       "    </tr>\n",
       "    <tr>\n",
       "      <th>3</th>\n",
       "      <td>1085</td>\n",
       "      <td>195</td>\n",
       "      <td>1</td>\n",
       "      <td>1</td>\n",
       "      <td>1.00</td>\n",
       "      <td>1.00</td>\n",
       "      <td>0.224806</td>\n",
       "    </tr>\n",
       "    <tr>\n",
       "      <th>4</th>\n",
       "      <td>1085</td>\n",
       "      <td>318</td>\n",
       "      <td>1</td>\n",
       "      <td>1</td>\n",
       "      <td>2.49</td>\n",
       "      <td>2.49</td>\n",
       "      <td>0.000000</td>\n",
       "    </tr>\n",
       "  </tbody>\n",
       "</table>\n",
       "</div>"
      ],
      "text/plain": [
       "   customer_key  product_nbr  week  item_qty  sales_amt  unit_price  \\\n",
       "0          1085           15     1         1       1.79        1.79   \n",
       "1          1085           32     1         1       1.00        1.00   \n",
       "2          1085          110     1         1       1.50        1.50   \n",
       "3          1085          195     1         1       1.00        1.00   \n",
       "4          1085          318     1         1       2.49        2.49   \n",
       "\n",
       "   discount_portion  \n",
       "0          0.067708  \n",
       "1          0.371069  \n",
       "2          0.462366  \n",
       "3          0.224806  \n",
       "4          0.000000  "
      ]
     },
     "execution_count": 10,
     "metadata": {},
     "output_type": "execute_result"
    }
   ],
   "source": [
    "_ = preprocess_pipeline.add_pricing_columns()\n",
    "transactions = preprocess_pipeline.dataset.transactions\n",
    "columns_in_use = [\n",
    "    \"customer_key\",\n",
    "    \"product_nbr\",\n",
    "    \"week\",\n",
    "    \"item_qty\",\n",
    "    \"sales_amt\",\n",
    "    \"unit_price\",\n",
    "    \"discount_portion\",\n",
    "]\n",
    "transactions.loc[:, columns_in_use].head(5)"
   ]
  },
  {
   "cell_type": "markdown",
   "metadata": {
    "pycharm": {
     "name": "#%% md\n"
    }
   },
   "source": [
    "\n",
    "#### 2. Invalid transactions\n",
    "\n",
    "To ensure that every row in the `transactions` table contains meaningful data, we need to inspect the values in each\n",
    "column to determine if they are interpretable in the context of a purchase event. However, we have observed transactions\n",
    "with negative quantity sold and negative money spent. These records likely represent product returns instead of actual\n",
    "purchases or valid store visits."
   ]
  },
  {
   "cell_type": "code",
   "execution_count": 11,
   "metadata": {
    "pycharm": {
     "name": "#%%\n"
    },
    "tags": []
   },
   "outputs": [
    {
     "data": {
      "text/html": [
       "<div>\n",
       "<style scoped>\n",
       "    .dataframe tbody tr th:only-of-type {\n",
       "        vertical-align: middle;\n",
       "    }\n",
       "\n",
       "    .dataframe tbody tr th {\n",
       "        vertical-align: top;\n",
       "    }\n",
       "\n",
       "    .dataframe thead th {\n",
       "        text-align: right;\n",
       "    }\n",
       "</style>\n",
       "<table border=\"1\" class=\"dataframe\">\n",
       "  <thead>\n",
       "    <tr style=\"text-align: right;\">\n",
       "      <th></th>\n",
       "      <th>basket_id</th>\n",
       "      <th>product_nbr</th>\n",
       "      <th>customer_key</th>\n",
       "      <th>week</th>\n",
       "      <th>day</th>\n",
       "      <th>item_qty</th>\n",
       "      <th>sales_amt</th>\n",
       "      <th>unit_price</th>\n",
       "      <th>discount_portion</th>\n",
       "    </tr>\n",
       "  </thead>\n",
       "  <tbody>\n",
       "    <tr>\n",
       "      <th>841</th>\n",
       "      <td>31198566701</td>\n",
       "      <td>13144</td>\n",
       "      <td>80</td>\n",
       "      <td>1</td>\n",
       "      <td>1</td>\n",
       "      <td>0</td>\n",
       "      <td>0.0</td>\n",
       "      <td>NaN</td>\n",
       "      <td>NaN</td>\n",
       "    </tr>\n",
       "    <tr>\n",
       "      <th>1167</th>\n",
       "      <td>31198635234</td>\n",
       "      <td>1847</td>\n",
       "      <td>1715</td>\n",
       "      <td>1</td>\n",
       "      <td>1</td>\n",
       "      <td>0</td>\n",
       "      <td>0.0</td>\n",
       "      <td>NaN</td>\n",
       "      <td>NaN</td>\n",
       "    </tr>\n",
       "  </tbody>\n",
       "</table>\n",
       "</div>"
      ],
      "text/plain": [
       "        basket_id  product_nbr  customer_key  week  day  item_qty  sales_amt  \\\n",
       "841   31198566701        13144            80     1    1         0        0.0   \n",
       "1167  31198635234         1847          1715     1    1         0        0.0   \n",
       "\n",
       "      unit_price  discount_portion  \n",
       "841          NaN               NaN  \n",
       "1167         NaN               NaN  "
      ]
     },
     "execution_count": 11,
     "metadata": {},
     "output_type": "execute_result"
    }
   ],
   "source": [
    "transactions[(transactions.item_qty <= 0) | (transactions.sales_amt <= 0)].head(2)"
   ]
  },
  {
   "cell_type": "markdown",
   "metadata": {
    "pycharm": {
     "name": "#%% md\n"
    }
   },
   "source": [
    "We use the following method to filter out these transactions and remove customer and product records that are not\n",
    "associated with any valid transactions."
   ]
  },
  {
   "cell_type": "code",
   "execution_count": 12,
   "metadata": {
    "collapsed": false,
    "jupyter": {
     "outputs_hidden": false
    },
    "pycharm": {
     "name": "#%%\n"
    },
    "tags": []
   },
   "outputs": [],
   "source": [
    "_ = preprocess_pipeline.clean_transactions()"
   ]
  },
  {
   "cell_type": "markdown",
   "metadata": {
    "pycharm": {
     "name": "#%% md\n"
    }
   },
   "source": [
    "\n",
    "### Putting it all together\n"
   ]
  },
  {
   "cell_type": "markdown",
   "metadata": {
    "pycharm": {
     "name": "#%% md\n"
    }
   },
   "source": [
    "We have encapsulated all filters introduced in this method into a helper method called `run_preprocess`. The method\n",
    "signature is shown below."
   ]
  },
  {
   "cell_type": "code",
   "execution_count": 13,
   "metadata": {
    "pycharm": {
     "name": "#%%\n"
    },
    "tags": []
   },
   "outputs": [
    {
     "name": "stdout",
     "output_type": "stream",
     "text": [
      "Help on function run_preprocess in module retailsynth.datasets.complete_journey.preprocess_pipeline:\n",
      "\n",
      "run_preprocess(config: retailsynth.base_config.Config)\n",
      "    Run the preprocess pipeline.\n",
      "    \n",
      "    This function applies the preprocess pipeline to the raw data based on the provided configuration.\n",
      "    \n",
      "    Parameters\n",
      "    ----------\n",
      "    config : Config\n",
      "        Configuration for the whole run.\n",
      "    \n",
      "    Returns\n",
      "    -------\n",
      "    tuple\n",
      "        A tuple containing the preprocessed customers, products, and transactions dataframes.\n",
      "\n"
     ]
    }
   ],
   "source": [
    "help(run_preprocess)"
   ]
  },
  {
   "cell_type": "markdown",
   "metadata": {
    "pycharm": {
     "name": "#%% md\n"
    }
   },
   "source": [
    "The following codes run all preprocessing steps described above, and outputs the customer demographic table, the product\n",
    "hierarchy table, and the transaction table."
   ]
  },
  {
   "cell_type": "code",
   "execution_count": 14,
   "metadata": {
    "pycharm": {
     "name": "#%%\n"
    },
    "tags": []
   },
   "outputs": [
    {
     "name": "stderr",
     "output_type": "stream",
     "text": [
      "2024-03-05 20:55:10,857 - INFO - Start preprocess pipeline\n",
      "2024-03-05 20:55:11,761 - INFO - Filter out transactions with non-positive quantity sold or money spent. Number of transactions are decreased to 1458032.\n",
      "2024-03-05 20:55:12,442 - INFO - Use the same label for products with the same hierarchy information. Number of products are decreased to 32333.\n",
      "2024-03-05 20:55:12,450 - INFO - Added category numbers.\n",
      "2024-03-05 20:55:12,497 - INFO - There are unrecognized customer ids in the transactions table. Number of unrecognized customer ids: 1668\n",
      "2024-03-05 20:55:13,424 - INFO - Preprocess pipeline finished\n",
      "2024-03-05 20:55:13,424 - INFO - Number of customers: 2469\n",
      "2024-03-05 20:55:13,424 - INFO - Number of products: 26176\n",
      "2024-03-05 20:55:13,424 - INFO - Number of transactions: 1299274\n",
      "2024-03-05 20:55:13,425 - INFO - Annotate products\n",
      "2024-03-05 20:55:13,448 - INFO - Sampling dataset\n",
      "2024-03-05 20:55:13,448 - INFO - Number of customers: 100\n",
      "2024-03-05 20:55:13,449 - INFO - Number of products: 10236\n",
      "2024-03-05 20:55:13,449 - INFO - Number of transactions: 64642\n"
     ]
    }
   ],
   "source": [
    "customers, products, transactions = run_preprocess(cfg)"
   ]
  },
  {
   "cell_type": "markdown",
   "metadata": {
    "pycharm": {
     "name": "#%% md\n"
    }
   },
   "source": [
    "\n",
    "## References\n",
    "\n",
    "1. Dunnhumby Source Files. https://www.dunnhumby.com/source-files/\n",
    "2. Maasakkers, et al. Next-basket prediction in a high-dimensional setting using gated recurrent units, Expert Systems\n",
    "   with Applications, Volume 212, 2023, 118795, ISSN 0957-4174. https://doi.org/10.1016/j.eswa.2022.118795.\n",
    "3. Ariannezhad, Mozhdeh, et al. \"ReCANet: A Repeat Consumption-Aware Neural Network for Next Basket Recommendation in\n",
    "   Grocery Shopping.\" Proceedings of the 45th International ACM SIGIR Conference on Research and Development in\n",
    "   Information Retrieval. 2022."
   ]
  }
 ],
 "metadata": {
  "kernelspec": {
   "display_name": "Python 3 (ipykernel)",
   "language": "python",
   "name": "python3"
  },
  "language_info": {
   "codemirror_mode": {
    "name": "ipython",
    "version": 3
   },
   "file_extension": ".py",
   "mimetype": "text/x-python",
   "name": "python",
   "nbconvert_exporter": "python",
   "pygments_lexer": "ipython3",
   "version": "3.10.11"
  },
  "vscode": {
   "interpreter": {
    "hash": "107939fd0dfa9cae8fbf0472287b2b3511a43b978c0cbb88e45e9bf3cd9078bd"
   }
  }
 },
 "nbformat": 4,
 "nbformat_minor": 4
}
